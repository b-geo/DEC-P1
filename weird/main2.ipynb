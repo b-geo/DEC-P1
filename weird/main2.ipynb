{
 "cells": [
  {
   "cell_type": "code",
   "execution_count": null,
   "metadata": {},
   "outputs": [],
   "source": [
    "import pandas as pd\n",
    "import requests"
   ]
  },
  {
   "cell_type": "code",
   "execution_count": 4,
   "metadata": {},
   "outputs": [],
   "source": [
    "resp = requests.get(f'https://api.squiggle.com.au/?q=games;year={2025}',headers={\"User-Agent\": \"brody1geore@gmail.com\"})\n",
    "data = resp.json()\n",
    "df = pd.json_normalize(data[\"games\"])\n",
    "a = {'Crows': 'Adelaide','Lions': 'Brisbane Lions', 'Blues': 'Carlton', 'Magpies': 'Collingwood', 'Bombers': 'Essendon', 'Dockers': 'Fremantle', 'Cats': 'Geelong', 'Suns': 'Gold Coast', 'Giants': 'Greater Western Sydney', 'Hawks': 'Hawthorn', 'Demons': 'Melbourne', 'Kangaroos': 'North Melbourne', 'Power': 'Port Adelaide', 'Tigers': 'Richmond', 'Saints': 'St Kilda', 'Swans': 'Sydney', 'Eagles': 'West Coast', 'Bulldogs': 'Western Bulldogs'}\n",
    "df2= pd.read_csv('2024-r24-team_ladder.csv')"
   ]
  },
  {
   "cell_type": "code",
   "execution_count": 5,
   "metadata": {},
   "outputs": [
    {
     "data": {
      "text/html": [
       "<div>\n",
       "<style scoped>\n",
       "    .dataframe tbody tr th:only-of-type {\n",
       "        vertical-align: middle;\n",
       "    }\n",
       "\n",
       "    .dataframe tbody tr th {\n",
       "        vertical-align: top;\n",
       "    }\n",
       "\n",
       "    .dataframe thead th {\n",
       "        text-align: right;\n",
       "    }\n",
       "</style>\n",
       "<table border=\"1\" class=\"dataframe\">\n",
       "  <thead>\n",
       "    <tr style=\"text-align: right;\">\n",
       "      <th></th>\n",
       "      <th>hteam</th>\n",
       "      <th>hscore</th>\n",
       "      <th>ateam</th>\n",
       "      <th>ascore</th>\n",
       "      <th>unixtime</th>\n",
       "      <th>hteam rank</th>\n",
       "      <th>ateam rank</th>\n",
       "    </tr>\n",
       "  </thead>\n",
       "  <tbody>\n",
       "    <tr>\n",
       "      <th>0</th>\n",
       "      <td>Brisbane Lions</td>\n",
       "      <td>0</td>\n",
       "      <td>Geelong</td>\n",
       "      <td>0</td>\n",
       "      <td>1741251000</td>\n",
       "      <td>5</td>\n",
       "      <td>3</td>\n",
       "    </tr>\n",
       "    <tr>\n",
       "      <th>1</th>\n",
       "      <td>Sydney</td>\n",
       "      <td>0</td>\n",
       "      <td>Hawthorn</td>\n",
       "      <td>0</td>\n",
       "      <td>1741336800</td>\n",
       "      <td>1</td>\n",
       "      <td>7</td>\n",
       "    </tr>\n",
       "    <tr>\n",
       "      <th>2</th>\n",
       "      <td>Gold Coast</td>\n",
       "      <td>0</td>\n",
       "      <td>Essendon</td>\n",
       "      <td>0</td>\n",
       "      <td>1741414500</td>\n",
       "      <td>13</td>\n",
       "      <td>11</td>\n",
       "    </tr>\n",
       "    <tr>\n",
       "      <th>3</th>\n",
       "      <td>Greater Western Sydney</td>\n",
       "      <td>0</td>\n",
       "      <td>Collingwood</td>\n",
       "      <td>0</td>\n",
       "      <td>1741494000</td>\n",
       "      <td>4</td>\n",
       "      <td>9</td>\n",
       "    </tr>\n",
       "    <tr>\n",
       "      <th>4</th>\n",
       "      <td>Richmond</td>\n",
       "      <td>0</td>\n",
       "      <td>Carlton</td>\n",
       "      <td>0</td>\n",
       "      <td>1741854600</td>\n",
       "      <td>18</td>\n",
       "      <td>8</td>\n",
       "    </tr>\n",
       "  </tbody>\n",
       "</table>\n",
       "</div>"
      ],
      "text/plain": [
       "                    hteam  hscore        ateam  ascore    unixtime  \\\n",
       "0          Brisbane Lions       0      Geelong       0  1741251000   \n",
       "1                  Sydney       0     Hawthorn       0  1741336800   \n",
       "2              Gold Coast       0     Essendon       0  1741414500   \n",
       "3  Greater Western Sydney       0  Collingwood       0  1741494000   \n",
       "4                Richmond       0      Carlton       0  1741854600   \n",
       "\n",
       "   hteam rank  ateam rank  \n",
       "0           5           3  \n",
       "1           1           7  \n",
       "2          13          11  \n",
       "3           4           9  \n",
       "4          18           8  "
      ]
     },
     "execution_count": 5,
     "metadata": {},
     "output_type": "execute_result"
    }
   ],
   "source": [
    "df2['Team']= df2['Team'].map(a).fillna(df2['Team'])\n",
    "# df2.drop(columns=['Streak'], inplace=True)\n",
    "csv_final = df2[[\"Position\", \"Team\"]]\n",
    "csv_final = csv_final.rename(columns={'Team':'hteam', 'Position':'Rank'})\n",
    "api_final= df[[\"hteam\", \"hscore\", \"ateam\", \"ascore\", \"unixtime\"]]\n",
    "df3 = api_final.merge(right=csv_final, how='inner', on='hteam').rename(columns={'Rank':'hteam rank'})\n",
    "df3 = df3.merge(right=csv_final, how='inner', left_on='ateam', right_on='hteam').rename(columns={'Rank':'ateam rank'})\n",
    "df3 = df3.drop(df3.filter(regex='_y$').columns, axis=1).rename(columns={'hteam_x':'hteam'})\n",
    "df3.head()\n",
    "# df3.csv_final.merge(right=api_final, how='inner', on='hteam')"
   ]
  }
 ],
 "metadata": {
  "kernelspec": {
   "display_name": "base",
   "language": "python",
   "name": "python3"
  },
  "language_info": {
   "codemirror_mode": {
    "name": "ipython",
    "version": 3
   },
   "file_extension": ".py",
   "mimetype": "text/x-python",
   "name": "python",
   "nbconvert_exporter": "python",
   "pygments_lexer": "ipython3",
   "version": "3.12.7"
  }
 },
 "nbformat": 4,
 "nbformat_minor": 2
}
